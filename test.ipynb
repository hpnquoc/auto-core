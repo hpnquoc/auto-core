{
 "cells": [
  {
   "cell_type": "code",
   "execution_count": 11,
   "metadata": {},
   "outputs": [],
   "source": [
    "import abc\n",
    "from loguru import logger as logging\n",
    "import sys\n",
    "\n",
    "class Register(abc.ABC):\n",
    "    \n",
    "    def __init__(self, name):\n",
    "        self.__name__ = name.lower()\n",
    "        self.__list = {}\n",
    "    \n",
    "    def __getitem__(self, name):\n",
    "        name = name.lower()\n",
    "        if name not in self.__list:\n",
    "            logging.error(f\"Name {name} not found in {self.__class__.__name__}\")\n",
    "            sys.exit(1) \n",
    "        else:\n",
    "            return self.__list[name]\n",
    "    \n",
    "    def __setitem__(self, name, value):\n",
    "        name = name.lower()\n",
    "        self.__list[name] = value\n",
    "    \n",
    "    def register(self, name):\n",
    "        def wrapper(cls):\n",
    "            if name in self.__dict__:\n",
    "                logging.error(f\"Name {name} already registered\")\n",
    "                sys.exit(1)\n",
    "            self[name] = cls\n",
    "            return cls\n",
    "        return wrapper\n",
    "    \n",
    "    @property\n",
    "    def list(self):\n",
    "        return list(self.__list.keys())\n",
    "\n"
   ]
  },
  {
   "cell_type": "code",
   "execution_count": 12,
   "metadata": {},
   "outputs": [],
   "source": [
    "class TestRegister(Register):\n",
    "    \n",
    "    def __init__(self, name):\n",
    "        super().__init__(name)"
   ]
  },
  {
   "cell_type": "code",
   "execution_count": 13,
   "metadata": {},
   "outputs": [],
   "source": [
    "test_register = TestRegister(\"test_register\")\n",
    "\n",
    "@test_register.register(\"test1\")\n",
    "class Test1:\n",
    "    \n",
    "    def __init__(self):\n",
    "        pass\n",
    "    \n",
    "    def test(self):\n",
    "        print(\"Test1\")"
   ]
  },
  {
   "cell_type": "code",
   "execution_count": 14,
   "metadata": {},
   "outputs": [],
   "source": [
    "a = test_register[\"test1\"]"
   ]
  },
  {
   "cell_type": "code",
   "execution_count": 15,
   "metadata": {},
   "outputs": [
    {
     "name": "stdout",
     "output_type": "stream",
     "text": [
      "<class '__main__.Test1'>\n"
     ]
    }
   ],
   "source": [
    "print(a)"
   ]
  },
  {
   "cell_type": "code",
   "execution_count": 16,
   "metadata": {},
   "outputs": [
    {
     "name": "stdout",
     "output_type": "stream",
     "text": [
      "Test1\n"
     ]
    }
   ],
   "source": [
    "a().test()"
   ]
  },
  {
   "cell_type": "code",
   "execution_count": 17,
   "metadata": {},
   "outputs": [
    {
     "data": {
      "text/plain": [
       "['test1']"
      ]
     },
     "execution_count": 17,
     "metadata": {},
     "output_type": "execute_result"
    }
   ],
   "source": [
    "test_register.list"
   ]
  },
  {
   "cell_type": "code",
   "execution_count": 1,
   "metadata": {},
   "outputs": [
    {
     "ename": "ImportError",
     "evalue": "cannot import name 'PCA' from 'matplotlib.mlab' (/home/hpnquoc/auto-core/.env/lib/python3.12/site-packages/matplotlib/mlab.py)",
     "output_type": "error",
     "traceback": [
      "\u001b[0;31m---------------------------------------------------------------------------\u001b[0m",
      "\u001b[0;31mImportError\u001b[0m                               Traceback (most recent call last)",
      "Cell \u001b[0;32mIn[1], line 5\u001b[0m\n\u001b[1;32m      3\u001b[0m \u001b[38;5;28;01mimport\u001b[39;00m \u001b[38;5;21;01mrandom\u001b[39;00m\n\u001b[1;32m      4\u001b[0m \u001b[38;5;28;01mimport\u001b[39;00m \u001b[38;5;21;01mos\u001b[39;00m\n\u001b[0;32m----> 5\u001b[0m \u001b[38;5;28;01mfrom\u001b[39;00m \u001b[38;5;21;01mmatplotlib\u001b[39;00m\u001b[38;5;21;01m.\u001b[39;00m\u001b[38;5;21;01mmlab\u001b[39;00m \u001b[38;5;28;01mimport\u001b[39;00m PCA \u001b[38;5;28;01mas\u001b[39;00m mlabPCA\n\u001b[1;32m      6\u001b[0m \u001b[38;5;28;01mfrom\u001b[39;00m \u001b[38;5;21;01mmatplotlib\u001b[39;00m \u001b[38;5;28;01mimport\u001b[39;00m pyplot \u001b[38;5;28;01mas\u001b[39;00m plt\n\u001b[1;32m      9\u001b[0m \u001b[38;5;28;01mdef\u001b[39;00m \u001b[38;5;21mget_colors\u001b[39m(num_colors):\n",
      "\u001b[0;31mImportError\u001b[0m: cannot import name 'PCA' from 'matplotlib.mlab' (/home/hpnquoc/auto-core/.env/lib/python3.12/site-packages/matplotlib/mlab.py)"
     ]
    }
   ],
   "source": [
    "import numpy\n",
    "import colorsys\n",
    "import random\n",
    "import os\n",
    "from matplotlib.mlab import PCA as mlabPCA\n",
    "from matplotlib import pyplot as plt\n",
    "\n",
    "\n",
    "def get_colors(num_colors):\n",
    "    \"\"\"\n",
    "    Function to generate a list of randomly generated colors\n",
    "    The function first generates 256 different colors and then\n",
    "    we randomly select the number of colors required from it\n",
    "    num_colors        -> Number of colors to generate\n",
    "    colors            -> Consists of 256 different colors\n",
    "    random_colors     -> Randomly returns required(num_color) colors\n",
    "    \"\"\"\n",
    "    colors = []\n",
    "    random_colors = []\n",
    "    # Generate 256 different colors and choose num_clors randomly\n",
    "    for i in numpy.arange(0., 360., 360. / 256.):\n",
    "        hue = i / 360.\n",
    "        lightness = (50 + numpy.random.rand() * 10) / 100.\n",
    "        saturation = (90 + numpy.random.rand() * 10) / 100.\n",
    "        colors.append(colorsys.hls_to_rgb(hue, lightness, saturation))\n",
    "\n",
    "    for i in range(0, num_colors):\n",
    "        random_colors.append(colors[random.randint(0, len(colors) - 1)])\n",
    "    return random_colors\n",
    "\n",
    "\n",
    "def random_centroid_selector(total_clusters , clusters_plotted):\n",
    "    \"\"\"\n",
    "    Function to generate a list of randomly selected\n",
    "    centroids to plot on the output png\n",
    "    total_clusters        -> Total number of clusters\n",
    "    clusters_plotted      -> Number of clusters to plot\n",
    "    random_list           -> Contains the index of clusters\n",
    "                             to be plotted\n",
    "    \"\"\"\n",
    "    random_list = []\n",
    "    for i in range(0 , clusters_plotted):\n",
    "        random_list.append(random.randint(0, total_clusters - 1))\n",
    "    return random_list\n",
    "\n",
    "def plot_cluster(kmeansdata, centroid_list, label_list , num_cluster):\n",
    "    \"\"\"\n",
    "    Function to convert the n-dimensional cluster to \n",
    "    2-dimensional cluster and plotting 50 random clusters\n",
    "    file%d.png    -> file where the output is stored indexed\n",
    "                     by first available file index\n",
    "                     e.g. file1.png , file2.png ...\n",
    "    \"\"\"\n",
    "    mlab_pca = mlabPCA(kmeansdata)\n",
    "    cutoff = mlab_pca.fracs[1]\n",
    "    users_2d = mlab_pca.project(kmeansdata, minfrac=cutoff)\n",
    "    centroids_2d = mlab_pca.project(centroid_list, minfrac=cutoff)\n",
    "\n",
    "\n",
    "    colors = get_colors(num_cluster)\n",
    "    plt.figure()\n",
    "    plt.xlim([users_2d[:, 0].min() - 3, users_2d[:, 0].max() + 3])\n",
    "    plt.ylim([users_2d[:, 1].min() - 3, users_2d[:, 1].max() + 3])\n",
    "\n",
    "    # Plotting 50 clusters only for now\n",
    "    random_list = random_centroid_selector(num_cluster , 50)\n",
    "\n",
    "    # Plotting only the centroids which were randomly_selected\n",
    "    # Centroids are represented as a large 'o' marker\n",
    "    for i, position in enumerate(centroids_2d):\n",
    "        if i in random_list:\n",
    "            plt.scatter(centroids_2d[i, 0], centroids_2d[i, 1], marker='o', c=colors[i], s=100)\n",
    "\n",
    "\n",
    "    # Plotting only the points whose centers were plotted\n",
    "    # Points are represented as a small '+' marker\n",
    "    for i, position in enumerate(label_list):\n",
    "        if position in random_list:\n",
    "            plt.scatter(users_2d[i, 0], users_2d[i, 1] , marker='+' , c=colors[position])\n",
    "\n",
    "    filename = \"name\"\n",
    "    i = 0\n",
    "    while True:\n",
    "        if os.path.isfile(filename + str(i) + \".png\") == False:\n",
    "            #new index found write file and return\n",
    "            plt.savefig(filename + str(i) + \".png\")\n",
    "            break\n",
    "        else:\n",
    "            #Changing index to next number\n",
    "            i = i + 1\n",
    "    return"
   ]
  },
  {
   "cell_type": "code",
   "execution_count": 1,
   "metadata": {},
   "outputs": [],
   "source": [
    "import cv2\n",
    "import torch\n",
    "import numpy as np\n",
    "import matplotlib.pyplot as plt\n",
    "from typing import (\n",
    "    Any,\n",
    ")"
   ]
  },
  {
   "cell_type": "code",
   "execution_count": 2,
   "metadata": {},
   "outputs": [],
   "source": [
    "class ImageTensor(torch.Tensor):\n",
    "\n",
    "    def __init__(self, data: Any, name: str = \"image_tensor\", ttype: str = \"fourier\"):\n",
    "        super().__init__()\n",
    "        self.data = data\n",
    "        self.__name__ = name\n",
    "        self.width = data.shape[1]\n",
    "        self.height = data.shape[0]\n",
    "        self.channels = data.shape[2]\n",
    "        \n",
    "        if ttype == \"fourier\":\n",
    "            self.data = self.fft()\n",
    "            t = self.center_crop(200)\n",
    "            self.data = t.data\n",
    "\n",
    "    def fft(self):\n",
    "        r = self.data[:,:,0]\n",
    "        g = self.data[:,:,1]\n",
    "        b = self.data[:,:,2]\n",
    "\n",
    "        r = torch.fft.fft2(r)\n",
    "        g = torch.fft.fft2(g)\n",
    "        b = torch.fft.fft2(b)\n",
    "\n",
    "        r = torch.fft.fftshift(r)\n",
    "        g = torch.fft.fftshift(g)\n",
    "        b = torch.fft.fftshift(b)\n",
    "\n",
    "        return torch.stack([r, g, b], axis=2)\n",
    "        # F1 = torch.fft.fft2(self)\n",
    "        # F2 = torch.fft.fftshift(F1)\n",
    "        return F1\n",
    "    \n",
    "    # def fftshift(self):\n",
    "    \n",
    "    def ifft(self):\n",
    "        r = self.data[:,:,0]\n",
    "        g = self.data[:,:,1]\n",
    "        b = self.data[:,:,2]\n",
    "\n",
    "        r = torch.fft.ifftshift(r)\n",
    "        g = torch.fft.ifftshift(g)\n",
    "        b = torch.fft.ifftshift(b)\n",
    "\n",
    "        r = torch.fft.ifft2(r)\n",
    "        g = torch.fft.ifft2(g)\n",
    "        b = torch.fft.ifft2(b)\n",
    "\n",
    "        return torch.stack([r, g, b], axis=2)\n",
    "        # F1 = torch.fft.ifftshift(self)\n",
    "        F2 = torch.fft.ifft2(self)\n",
    "        return F2\n",
    "    \n",
    "    def _crop(self, x1, y1, x2, y2):\n",
    "        return self[x1:x2, y1:y2]\n",
    "    \n",
    "    def center_crop(self, size):\n",
    "        x1 = (self.height - size) // 2\n",
    "        y1 = (self.width - size) // 2\n",
    "        x2 = x1 + size\n",
    "        y2 = y1 + size\n",
    "        print(x1, y1, x2, y2)\n",
    "\n",
    "        # print(self.data.shape)\n",
    "        temp = self._crop(x1, y1, x2, y2)\n",
    "        # print(temp.shape)\n",
    "        # temp = temp.pad(self.height, self.width)\n",
    "        temp = temp.pad_dim(size, self.height, self.width)\n",
    "        return temp\n",
    "    \n",
    "    def outer_crop(self, size):\n",
    "        mask = torch.zeros(size, size, 3)\n",
    "        hpad = (self.height - size) // 2\n",
    "        wpad = (self.width - size) // 2\n",
    "        print(hpad, wpad)\n",
    "        mask = torch.nn.functional.pad(mask, (0, 0, wpad, wpad, hpad, hpad), mode='constant', value=1)\n",
    "\n",
    "        return self.data * mask\n",
    "\n",
    "    # def pad(self):\n",
    "    #     hpad = (self.height - self.data.shape[0]) // 2\n",
    "    #     wpad = (self.width - self.data.shape[1]) // 2\n",
    "    #     return torch.nn.functional.pad(self, (0, 0, wpad, wpad, hpad, hpad), mode='constant', value=0)\n",
    "    \n",
    "    def pad(self, height, width):\n",
    "        if height:\n",
    "            hpad = (height - self.data.shape[0]) // 2\n",
    "        else:\n",
    "            hpad = 0\n",
    "\n",
    "        if width:\n",
    "            wpad = (width - self.data.shape[1]) // 2\n",
    "        else:\n",
    "            wpad = 0\n",
    "        return torch.nn.functional.pad(self, (0, 0, wpad, wpad, hpad, hpad), mode='constant', value=0)\n",
    "    \n",
    "    def pad_dim(self, size, height, width):\n",
    "        if height > width:\n",
    "            ratio = height / width\n",
    "            newh = int(size*ratio)\n",
    "            temp = self.pad(newh, 0)\n",
    "        else:\n",
    "            ratio = width / height\n",
    "            neww = int(size*ratio)\n",
    "            temp = self.pad(0, neww)\n",
    "        return temp\n",
    "\n",
    "\n",
    "    "
   ]
  },
  {
   "cell_type": "code",
   "execution_count": 3,
   "metadata": {},
   "outputs": [
    {
     "name": "stdout",
     "output_type": "stream",
     "text": [
      "100 200 300 400\n",
      "(400, 600, 3)\n",
      "(200, 300, 3)\n",
      "(200, 300, 3)\n"
     ]
    }
   ],
   "source": [
    "\n",
    "# Load the image with OpenCV\n",
    "image_path = 'dummy/images/4.jpg'  # Replace with your image path\n",
    "image = cv2.imread(image_path)\n",
    "\n",
    "# Convert the image to a PyTorch tensor and normalize it to range [0, 1]\n",
    "image_tensor = torch.tensor(image, dtype=torch.float32) / 255.0\n",
    "\n",
    "# Compute the 2D FFT\n",
    "# fft_image = torch.fft.fft2(image_tensor)\n",
    "\n",
    "# Shift the zero frequency component to the center\n",
    "fft_shifted = ImageTensor(image_tensor)\n",
    "# print(fft_shifted.shape)\n",
    "\n",
    "# Compute the magnitude spectrum and use logarithmic scale for better visualization\n",
    "magnitude_spectrum = torch.log(1 + torch.abs(fft_shifted))\n",
    "\n",
    "# Convert the magnitude spectrum to a NumPy array and normalize it for display with OpenCV\n",
    "magnitude_spectrum_np = magnitude_spectrum.numpy()\n",
    "magnitude_spectrum_normalized = cv2.normalize(magnitude_spectrum_np, None, 0, 255, cv2.NORM_MINMAX)\n",
    "magnitude_spectrum_display = magnitude_spectrum_normalized.astype(np.uint8)\n",
    "\n",
    "# Display the original image and its FFT magnitude spectrum using OpenCV\n",
    "cv2.imshow('Original Image', image)\n",
    "cv2.imshow('FFT Magnitude Spectrum', magnitude_spectrum_display)\n",
    "\n",
    "iff_image = fft_shifted.ifft()\n",
    "# print(iff_image)\n",
    "iff_image = torch.abs(iff_image)\n",
    "# print(iff_image)\n",
    "# Normalize the IFFT image for display with OpenCV\n",
    "iff_image = iff_image.numpy()\n",
    "\n",
    "# iff_image = cv2.normalize(iff_image, None, 0, 255, cv2.NORM_MINMAX)\n",
    "# fft_img = np.concatenate((magnitude_spectrum_display, iff_image), axis=0)\n",
    "cv2.imshow('IFFT Image', iff_image)\n",
    "\n",
    "print(image.shape)\n",
    "print(magnitude_spectrum_display.shape)\n",
    "print(iff_image.shape)\n",
    "# Wait for a key press and close the windows\n",
    "cv2.waitKey(0)\n",
    "cv2.destroyAllWindows()\n"
   ]
  },
  {
   "cell_type": "code",
   "execution_count": 4,
   "metadata": {},
   "outputs": [],
   "source": [
    "iff_image = cv2.resize(iff_image, (image.shape[1], image.shape[0]), interpolation=cv2.INTER_CUBIC)"
   ]
  },
  {
   "cell_type": "code",
   "execution_count": 5,
   "metadata": {},
   "outputs": [],
   "source": [
    "image = image_tensor.numpy()\n",
    "cv2.imshow('IFFT Image', image + 5*image*(iff_image)+0.1)\n",
    "cv2.waitKey(0)\n",
    "cv2.destroyAllWindows()"
   ]
  },
  {
   "cell_type": "code",
   "execution_count": 4,
   "metadata": {},
   "outputs": [
    {
     "name": "stdout",
     "output_type": "stream",
     "text": [
      "Enter your name: John Doe\n",
      "\n",
      "\n"
     ]
    }
   ],
   "source": [
    "import subprocess\n",
    "\n",
    "# Spawn a process to execute a command\n",
    "process = subprocess.Popen(['python', '-c', 'print(input(\"Enter your name: \"))'], stdout=subprocess.PIPE, stderr=subprocess.PIPE, stdin=subprocess.PIPE)\n",
    "\n",
    "# Send user input to the process's stdin\n",
    "process.stdin.write(b'John Doe\\n')\n",
    "process.stdin.flush()\n",
    "\n",
    "# Read the output from stdout and stderr\n",
    "output, error = process.communicate()\n",
    "\n",
    "# Print the output and error messages\n",
    "print(output.decode())\n",
    "print(error.decode())"
   ]
  },
  {
   "cell_type": "code",
   "execution_count": 6,
   "metadata": {},
   "outputs": [
    {
     "name": "stdout",
     "output_type": "stream",
     "text": [
      "0\n",
      "four\n",
      "five\n",
      "\n"
     ]
    }
   ],
   "source": [
    "from subprocess import run, PIPE\n",
    "\n",
    "p = run(['grep', 'f'], stdout=PIPE,\n",
    "        input='one\\ntwo\\nthree\\nfour\\nfive\\nsix\\n', encoding='ascii')\n",
    "print(p.returncode)\n",
    "# -> 0\n",
    "print(p.stdout)"
   ]
  },
  {
   "cell_type": "code",
   "execution_count": 23,
   "metadata": {},
   "outputs": [
    {
     "name": "stdout",
     "output_type": "stream",
     "text": [
      "b'four\\nfive\\n'\n"
     ]
    }
   ],
   "source": [
    "import subprocess\n",
    "import os\n",
    "read, write = os.pipe()\n",
    "os.write(write, b\"aaa\\n\")\n",
    "os.close(write)\n",
    "process = subprocess.Popen(['grep','f'], stdout=subprocess.PIPE, stderr=subprocess.PIPE, stdin=subprocess.PIPE)\n",
    "process.stdin.write(b'one\\ntwo\\nthree\\nfour\\nfive\\nsix\\n')\n",
    "\n",
    "# output, error = process.communicate()[0]\n",
    "print(process.communicate()[0])\n",
    "\n",
    "# Print the output and error messages\n",
    "# print(output.decode())\n",
    "# print(error.decode())"
   ]
  },
  {
   "cell_type": "code",
   "execution_count": 32,
   "metadata": {},
   "outputs": [
    {
     "name": "stdout",
     "output_type": "stream",
     "text": [
      "b'one\\ntwo\\nthree\\nfour\\nfive\\nsix\\n'\n"
     ]
    }
   ],
   "source": [
    "import subprocess\n",
    "\n",
    "process = subprocess.Popen(['python','test.py'], stdout=subprocess.PIPE, stderr=subprocess.PIPE, stdin=subprocess.PIPE)\n",
    "process.stdin.write(b'one\\ntwo\\nthree\\nfour\\nfive\\nsix\\n')\n",
    "\n",
    "# output, error = process.communicate()[0]\n",
    "print(process.communicate()[0])"
   ]
  },
  {
   "cell_type": "code",
   "execution_count": null,
   "metadata": {},
   "outputs": [],
   "source": []
  }
 ],
 "metadata": {
  "kernelspec": {
   "display_name": ".env",
   "language": "python",
   "name": "python3"
  },
  "language_info": {
   "codemirror_mode": {
    "name": "ipython",
    "version": 3
   },
   "file_extension": ".py",
   "mimetype": "text/x-python",
   "name": "python",
   "nbconvert_exporter": "python",
   "pygments_lexer": "ipython3",
   "version": "3.12.3"
  }
 },
 "nbformat": 4,
 "nbformat_minor": 2
}
